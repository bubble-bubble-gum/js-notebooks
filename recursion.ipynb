{
 "cells": [
  {
   "cell_type": "markdown",
   "metadata": {},
   "source": [
    "# Рекурсия"
   ]
  },
  {
   "cell_type": "markdown",
   "metadata": {},
   "source": [
    "Представим некую стркуктуру... пусть это будет дерево папок и файлов:"
   ]
  },
  {
   "cell_type": "code",
   "execution_count": 2,
   "metadata": {},
   "outputs": [],
   "source": [
    "var FOLDER = \"folder\";\n",
    "var FILE = \"file\";\n",
    "\n",
    "var FS_TREE = {\n",
    "    type: FOLDER,\n",
    "    name: \"MyDocuments\",\n",
    "    children: [\n",
    "        {\n",
    "            type: FOLDER,\n",
    "            name: \"Videos\",\n",
    "            children: [\n",
    "                {\n",
    "                    type: FILE,\n",
    "                    name: \"new_year.pdf\",\n",
    "                },\n",
    "                {\n",
    "                    type: FILE,\n",
    "                    name: \"my_dr.pdf\",\n",
    "                },\n",
    "                {\n",
    "                    type: FOLDER,\n",
    "                    name: \"MyVideos\",\n",
    "                    children: [\n",
    "                        {\n",
    "                            type: FILE,\n",
    "                            name: \"1.mp4\",\n",
    "                        },\n",
    "                        {\n",
    "                            type: FILE,\n",
    "                            name: \"2.mp4\",\n",
    "                        },\n",
    "                        {\n",
    "                            type: FOLDER,\n",
    "                            name: \"MyDr\",\n",
    "                            children: [\n",
    "                                {\n",
    "                                    type: FILE,\n",
    "                                    name: \"cake.mp4\"\n",
    "                                }\n",
    "                            ]\n",
    "                        }\n",
    "                    ]\n",
    "                }\n",
    "            ],\n",
    "        },\n",
    "        {\n",
    "            type: FILE,\n",
    "            name: \"cv.pdf\",\n",
    "        },\n",
    "    ],\n",
    "};"
   ]
  },
  {
   "cell_type": "markdown",
   "metadata": {},
   "source": [
    "Можете заметить, что структура рекурсивная, значит что в папках могут находиться файлы в перемешку с другими папками, которые по аналогии могут содержать папки и файлы."
   ]
  },
  {
   "cell_type": "markdown",
   "metadata": {},
   "source": [
    "## Решение через цикл"
   ]
  },
  {
   "cell_type": "markdown",
   "metadata": {},
   "source": [
    "Как мы можем вытащить из такой структуры все находящиеся в ней файлы? Можно конечно рискнуть сделать это в цикле.. попробуем?\n",
    "\n",
    "Сложность заключается еще в том, что мы хотим проходиться по папкам в глубину."
   ]
  },
  {
   "cell_type": "code",
   "execution_count": 3,
   "metadata": {
    "tags": []
   },
   "outputs": [
    {
     "output_type": "stream",
     "name": "stdout",
     "text": "[\n  { type: 'file', name: 'cv.pdf' },\n  { type: 'file', name: 'new_year.pdf' },\n  { type: 'file', name: 'my_dr.pdf' },\n  { type: 'file', name: '1.mp4' },\n  { type: 'file', name: '2.mp4' },\n  { type: 'file', name: 'cake.mp4' }\n]\nloop: 4.069ms\n"
    }
   ],
   "source": [
    "console.time(\"loop\") // start timer\n",
    "var files = []\n",
    "var folders = [FS_TREE]\n",
    "var current_idx = 0\n",
    "while (current_idx < folders.length) {\n",
    "    var current_folder = folders[current_idx]\n",
    "    var new_folders_count = 1;\n",
    "    for(var child of current_folder.children){\n",
    "        if (child.type === FOLDER){\n",
    "            folders.splice(current_idx + new_folders_count++, 0, child)\n",
    "        } else {\n",
    "            files.push(child);\n",
    "        }\n",
    "    }\n",
    "    current_idx++;\n",
    "}\n",
    "console.log(files)\n",
    "console.timeEnd(\"loop\") // end and print timer"
   ]
  },
  {
   "cell_type": "markdown",
   "metadata": {},
   "source": [
    "Хууууххх...🤕 Ну вроде как что-то получилось.. сложное ли это решение? Ну нет.. более-менее.. нам пришлось слегда подумать, но написать вполне себе реально.. для интереса мы еще замерили время работы этого решения. Реальные проблемы для нас начались бы если мы захотели... ну например следить за глубиной вложенности, это бы добавило нам гемороя."
   ]
  },
  {
   "cell_type": "markdown",
   "metadata": {},
   "source": [
    "## Решение через рекурсию\n",
    "\n",
    "Давайте лучше посмотрим другой вариант решениния, в котором мы воспользуемся рекурсией. Обратите внимаение, на то, что мы можем написать сначала функцию которая только достает файлы из папки:"
   ]
  },
  {
   "cell_type": "code",
   "execution_count": null,
   "metadata": {},
   "outputs": [],
   "source": [
    "var simpleFilesEject = (folder) => {\n",
    "    return folder.children.filter(n => n.type === FILE)\n",
    "}\n",
    "console.log(simpleFilesEject(FS_TREE))"
   ]
  },
  {
   "cell_type": "markdown",
   "metadata": {},
   "source": [
    "👆 Как видите, достаточно просто.. а что нам делать если нам попалась папка? Ну все просто применим эту же функцию к этой папке а в результат добавим как файлы из обрабатываемой папки так и из вложенных папок:"
   ]
  },
  {
   "cell_type": "code",
   "execution_count": 4,
   "metadata": {
    "tags": []
   },
   "outputs": [
    {
     "output_type": "stream",
     "name": "stdout",
     "text": "[\n  { type: 'file', name: 'new_year.pdf' },\n  { type: 'file', name: 'my_dr.pdf' },\n  { type: 'file', name: '1.mp4' },\n  { type: 'file', name: '2.mp4' },\n  { type: 'file', name: 'cake.mp4' },\n  { type: 'file', name: 'cv.pdf' }\n]\n"
    }
   ],
   "source": [
    "var ejectFiles = (folder) => {\n",
    "    var files = [] // result of funciton\n",
    "    for (let item of folder.children){\n",
    "        if(item.type === FILE){\n",
    "            files.push(item)\n",
    "        }else{\n",
    "            // self-call                👇\n",
    "            var inner_files = ejectFiles(item)\n",
    "            files = [...files, ...inner_files]\n",
    "        }\n",
    "    }\n",
    "    return files\n",
    "}\n",
    "console.log(ejectFiles(FS_TREE))"
   ]
  }
 ],
 "metadata": {
  "kernelspec": {
   "display_name": "Javascript (Node.js)",
   "language": "javascript",
   "name": "javascript"
  },
  "language_info": {
   "file_extension": ".js",
   "mimetype": "application/javascript",
   "name": "javascript",
   "version": "12.16.1"
  }
 },
 "nbformat": 4,
 "nbformat_minor": 2
}