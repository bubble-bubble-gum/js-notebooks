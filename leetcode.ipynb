{
 "metadata": {
  "language_info": {
   "codemirror_mode": {
    "name": "ipython",
    "version": 3
   },
   "file_extension": ".py",
   "mimetype": "text/x-python",
   "name": "python",
   "nbconvert_exporter": "python",
   "pygments_lexer": "ipython3",
   "version": "3.8.5-final"
  },
  "orig_nbformat": 2,
  "kernelspec": {
   "name": "javascript",
   "display_name": "Javascript (Node.js)"
  }
 },
 "nbformat": 4,
 "nbformat_minor": 2,
 "cells": [
  {
   "cell_type": "markdown",
   "metadata": {},
   "source": [
    "# Что это?\n",
    "\n",
    "Иногда во время занятий мы будем посматривать с вами на задачи с **LeetCode**, решения во время занятия будут писаться здесь."
   ]
  },
  {
   "cell_type": "markdown",
   "metadata": {},
   "source": [
    "# Detect polindrome\n",
    "\n",
    "Задание заключается в том, что мы должны написать функцию `isPalindrome`, которая будет определять является ли переданная ей строка полиндромом. При проверки мы должны игнорировать регистры букс, все знаки препинания и пробелы."
   ]
  },
  {
   "cell_type": "code",
   "execution_count": 9,
   "metadata": {
    "tags": []
   },
   "outputs": [
    {
     "output_type": "stream",
     "name": "stdout",
     "text": "/\n"
    },
    {
     "output_type": "error",
     "ename": "Error",
     "evalue": "Cannot find module 'chai'\nRequire stack:\n- /[eval]",
     "traceback": [
      "internal/modules/cjs/loader.js:968",
      "  throw err;",
      "  ^",
      "",
      "Error: Cannot find module 'chai'",
      "Require stack:",
      "- /[eval]",
      "    at Function.Module._resolveFilename (internal/modules/cjs/loader.js:965:15)",
      "    at Function.Module._load (internal/modules/cjs/loader.js:841:27)",
      "    at Module.require (internal/modules/cjs/loader.js:1025:19)",
      "    at require (internal/modules/cjs/helpers.js:72:18)",
      "    at evalmachine.<anonymous>:3:18",
      "    at Script.runInThisContext (vm.js:120:18)",
      "    at Object.runInThisContext (vm.js:309:38)",
      "    at run ([eval]:1054:15)",
      "    at onRunRequest ([eval]:888:18)",
      "    at onMessage ([eval]:848:13)"
     ]
    }
   ],
   "source": [
    "{\n",
    "    const chai = require(\"chai\");\n",
    "\n",
    "    const test_cases = [\n",
    "        {\n",
    "            value: \"A man, a plan, a (*&)^(canal: Panama\",\n",
    "            expected: true,\n",
    "        }\n",
    "    ]\n",
    "\n",
    "    function isPalindrome(s){\n",
    "        s = s.toLowerCase().replace(/\\W/gi, \"\")\n",
    "        for(let i = 0; i < s.length / 2; i++){\n",
    "            if (s[i] !== s[s.length - (1 + i)]){\n",
    "                return false\n",
    "            }\n",
    "        }\n",
    "        return true\n",
    "    }\n",
    "\n",
    "    for (const {value, expected} of test_cases){\n",
    "        chai.expect(isPalindrome(value)).to.be(expected)\n",
    "    }\n",
    "}"
   ]
  }
 ]
}