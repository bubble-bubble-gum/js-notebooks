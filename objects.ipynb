{
 "metadata": {
  "language_info": {
   "codemirror_mode": {
    "name": "ipython",
    "version": 3
   },
   "file_extension": ".py",
   "mimetype": "text/x-python",
   "name": "python",
   "nbconvert_exporter": "python",
   "pygments_lexer": "ipython3",
   "version": "3.8.5-final"
  },
  "orig_nbformat": 2,
  "kernelspec": {
   "name": "javascript",
   "display_name": "Javascript (Node.js)"
  }
 },
 "nbformat": 4,
 "nbformat_minor": 2,
 "cells": [
  {
   "cell_type": "code",
   "execution_count": 53,
   "metadata": {
    "tags": []
   },
   "outputs": [
    {
     "output_type": "execute_result",
     "data": {
      "text/plain": "'John'"
     },
     "metadata": {},
     "execution_count": 53
    }
   ],
   "source": [
    "function createPerson(first_name, last_name){\n",
    "    return {\n",
    "        first_name,\n",
    "        last_name: last_name,\n",
    "        [\"12\" + \"3\"]: 123\n",
    "    }\n",
    "}\n",
    "var john = createPerson(\"John\", \"Dow\")\n",
    "var Endy = createPerson(\"Endy\", \"Warhol\")\n",
    "var rand_key = Math.random() > .5 ? \"first_name\" : \"last_name\";\n",
    "john[rand_key];"
   ]
  },
  {
   "cell_type": "markdown",
   "metadata": {},
   "source": [
    "В объектах мы не только выражаем с вами какие-то структуры, но и используем их как хранилище пар ключ/значение:\n",
    "\n",
    "> Должен заметить что у нас теперь есть специализированный класс для этого (`Map`)"
   ]
  },
  {
   "cell_type": "code",
   "execution_count": 52,
   "metadata": {
    "tags": []
   },
   "outputs": [
    {
     "output_type": "stream",
     "name": "stdout",
     "text": "{\n  V: 1,\n  e: 2,\n  r: 3,\n  y: 2,\n  ' ': 3,\n  v: 1,\n  l: 1,\n  o: 1,\n  n: 2,\n  g: 2,\n  s: 1,\n  t: 1,\n  i: 1,\n  '.': 3\n}\n"
    }
   ],
   "source": [
    "var str = \"Very very long string...\";\n",
    "\n",
    "var statistic = {}\n",
    "for (let char of str){\n",
    "    // если нет ключика char в объекте statistic то добавим его\n",
    "    if (!(char in statistic)){\n",
    "        statistic[char] = 0\n",
    "    }\n",
    "    statistic[char]++\n",
    "}\n",
    "console.log(statistic);"
   ]
  },
  {
   "cell_type": "markdown",
   "metadata": {},
   "source": [
    "Давайте напиишм функцию которая будет создавать объектики кошки:"
   ]
  },
  {
   "cell_type": "code",
   "execution_count": 3,
   "metadata": {
    "tags": []
   },
   "outputs": [
    {
     "output_type": "stream",
     "name": "stdout",
     "text": "Hello! My name is Barsik\nHello! My name is Luparik\nIs the same object: false\n"
    }
   ],
   "source": [
    "function createCat(nickname){\n",
    "    return {\n",
    "        nickname: nickname,\n",
    "        age: Math.round(12 * Math.random),\n",
    "        sayHello: function(){\n",
    "            console.log(`Hello! My name is ${this.nickname}`)\n",
    "        }\n",
    "    }\n",
    "}\n",
    "var barsik = createCat(\"Barsik\")\n",
    "var luparik = createCat(\"Luparik\")\n",
    "barsik.sayHello()\n",
    "luparik.sayHello()\n",
    "console.log(\"Is the same object:\", Object.is(barsik.sayHello, luparik.sayHello))"
   ]
  },
  {
   "cell_type": "markdown",
   "metadata": {},
   "source": [
    "Думаю, что вы видите некоторую странность, у каждого объекта сейчас будет собственная функция `sayHello`, но есть ли более удобный способ делать подобные проекты?"
   ]
  },
  {
   "cell_type": "code",
   "execution_count": 6,
   "metadata": {
    "tags": []
   },
   "outputs": [
    {
     "output_type": "stream",
     "name": "stdout",
     "text": "Hello! My name is Barsik\nHello! My name is Luparik\nLuparik\nIs the same object: true\n"
    }
   ],
   "source": [
    "var additional_prototype = {\n",
    "    sayName: function(){\n",
    "        console.log(this.nickname)\n",
    "    }\n",
    "}\n",
    "\n",
    "var cat_prototype = {\n",
    "    sayHello: function(){\n",
    "        console.log(`Hello! My name is ${this.nickname}`)\n",
    "    },\n",
    "    __proto__: additional_prototype\n",
    "}\n",
    "\n",
    "function createCat(nickname){\n",
    "    return {\n",
    "        nickname: nickname,\n",
    "        age: Math.round(12 * Math.random),\n",
    "       __proto__: cat_prototype\n",
    "    }\n",
    "}\n",
    "\n",
    "var barsik = createCat(\"Barsik\")\n",
    "var luparik = createCat(\"Luparik\")\n",
    "barsik.sayHello()\n",
    "luparik.sayHello()\n",
    "luparik.sayName()\n",
    "\n",
    "console.log(\"Is the same object:\", Object.is(barsik.sayHello, luparik.sayHello))"
   ]
  },
  {
   "cell_type": "markdown",
   "metadata": {},
   "source": [
    "Теперь у нас общая функция на все экземпляры кошек. Мы даже можем поменять функцию в прототипе на новую и поведение метода у всех кошек изменится:"
   ]
  },
  {
   "cell_type": "code",
   "execution_count": 7,
   "metadata": {
    "tags": []
   },
   "outputs": [
    {
     "output_type": "stream",
     "name": "stdout",
     "text": "[NEW] Hello! My name is Barsik\n[NEW] Hello! My name is Luparik\n"
    }
   ],
   "source": [
    "cat_prototype.sayHello = function(){\n",
    "    console.log(`[NEW] Hello! My name is ${this.nickname}`)\n",
    "}\n",
    "\n",
    "barsik.sayHello()\n",
    "luparik.sayHello()"
   ]
  },
  {
   "cell_type": "markdown",
   "metadata": {},
   "source": [
    "Вуаля!"
   ]
  },
  {
   "cell_type": "markdown",
   "metadata": {},
   "source": [
    "Для того чтобы удобнее создать объект из прототипа, а точнее объект у которого аттрибут `__proto__` будет ссылать на какой-то другой объект можно воспользоваться функцией `Object.create`.\n",
    "\n",
    "Эта функция получает 1 аргумент:\n",
    "- `prototype`\n",
    "     Объект который будет прототипом нового объекта\n",
    "и возвращает новый объект у которого свойство `__proto__` ссылается на значение аргумента `prototype`"
   ]
  },
  {
   "cell_type": "code",
   "execution_count": 3,
   "metadata": {
    "tags": []
   },
   "outputs": [
    {
     "output_type": "stream",
     "name": "stdout",
     "text": "My name is Matthew. Am I human? true\n"
    }
   ],
   "source": [
    "var person_prototype = {\n",
    "  isHuman: false,\n",
    "  printIntroduction: function() {\n",
    "    console.log(`My name is ${this.name}. Am I human? ${this.isHuman}`);\n",
    "  }\n",
    "};\n",
    "\n",
    "var me = Object.create(person_prototype);\n",
    "me.name = 'Matthew'; // \"name\" is a property set on \"me\", but not on \"person\"\n",
    "me.isHuman = true; // inherited properties can be overwritten\n",
    "\n",
    "me.printIntroduction();"
   ]
  },
  {
   "cell_type": "markdown",
   "metadata": {},
   "source": [
    "# Функции конструкторы\n",
    "\n",
    "**Функция конструктор** - функция которая конструирует новые объекты.\n",
    "> Принято называть с большой буквы\n",
    "\n",
    "Функция конструктор вызывается через оператор `new`. если вызвана она верно, то контекст выполнения `this` будет равен новому пустому объекту. Функция должна заполнить этот объект аттрибутами."
   ]
  },
  {
   "cell_type": "code",
   "execution_count": 10,
   "metadata": {
    "tags": []
   },
   "outputs": [
    {
     "output_type": "stream",
     "name": "stdout",
     "text": "Cat { sayHello: [Function] }\nCat { nickname: 'Luparik', age: 12 } Cat { nickname: 'Barsik', age: 1 }\n"
    }
   ],
   "source": [
    "function Cat(nickname, age){\n",
    "    this.nickname = nickname\n",
    "    this.age = age\n",
    "}\n",
    "Cat.prototype.sayHello = function(){\n",
    "    console.log(`Hello! My name is ${this.nickname}`)\n",
    "}\n",
    "var luparik = new Cat(\"Luparik\", 12)\n",
    "var barsik = new Cat(\"Barsik\", 1)\n",
    "console.log(luparik, barsik)"
   ]
  },
  {
   "cell_type": "code",
   "execution_count": null,
   "metadata": {},
   "outputs": [],
   "source": []
  }
 ]
}