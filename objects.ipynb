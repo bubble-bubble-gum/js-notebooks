{
 "metadata": {
  "language_info": {
   "codemirror_mode": {
    "name": "ipython",
    "version": 3
   },
   "file_extension": ".py",
   "mimetype": "text/x-python",
   "name": "python",
   "nbconvert_exporter": "python",
   "pygments_lexer": "ipython3",
   "version": 3
  },
  "orig_nbformat": 2
 },
 "nbformat": 4,
 "nbformat_minor": 2,
 "cells": [
  {
   "cell_type": "code",
   "execution_count": null,
   "metadata": {},
   "outputs": [],
   "source": [
    "function createCat(nickname){\n",
    "    return {\n",
    "        nickname: nickname,\n",
    "        age: Math.round(12 * Math.random),\n",
    "        sayHello: function(){\n",
    "            console.log(`Hello! My name is ${this.nickname}`)\n",
    "        }\n",
    "    }\n",
    "}\n",
    "\n",
    "var barsik = createCat(\"Barsik\")\n",
    "barsik.sayHello()"
   ]
  },
  {
   "cell_type": "code",
   "execution_count": null,
   "metadata": {},
   "outputs": [],
   "source": [
    "var animal_prototype = {\n",
    "    walk(){\n",
    "        console.log(\"WALK\")\n",
    "    }\n",
    "}\n",
    "\n",
    "var cow = {\n",
    "    nickname: \"Burenka\"\n",
    "}\n",
    "\n",
    "cow.__proto__ = animal_prototype\n",
    "\n",
    "cow.walk()"
   ]
  }
 ]
}