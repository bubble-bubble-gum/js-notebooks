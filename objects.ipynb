{
 "cells": [
  {
   "cell_type": "markdown",
   "metadata": {},
   "source": [
    "Хочу просто показать дополнительные возможности при объявлении аттрибутов объекта:"
   ]
  },
  {
   "cell_type": "code",
   "execution_count": null,
   "metadata": {
    "tags": []
   },
   "outputs": [],
   "source": [
    "function createPerson(first_name, last_name){\n",
    "    return {\n",
    "        first_name,\n",
    "        last_name: last_name,\n",
    "        [\"12\" + \"3\"]: 123 // Как видите я могу объявлять ключ в объекте внутри квадратных скобочек, в них я могу писать выражения\n",
    "    }\n",
    "}\n",
    "var john = createPerson(\"John\", \"Dow\")\n",
    "var Andy = createPerson(\"Andy\", \"Warhol\")\n",
    "var rand_key = Math.random() > .5 ? \"first_name\" : \"last_name\";\n",
    "john[rand_key]; // Получение случайного ключа из объекта"
   ]
  },
  {
   "cell_type": "markdown",
   "metadata": {},
   "source": [
    "В объектах мы не только выражаем с вами какие-то структуры, но и используем их как хранилище пар ключ/значение:\n",
    "\n",
    "> Должен заметить что у нас теперь есть специализированный класс для этого (`Map`)"
   ]
  },
  {
   "cell_type": "code",
   "execution_count": null,
   "metadata": {
    "tags": []
   },
   "outputs": [],
   "source": [
    "var str = \"Very very long string...\";\n",
    "\n",
    "var statistic = {}\n",
    "for (let char of str){\n",
    "    // если нет ключика char в объекте statistic то добавим его\n",
    "    if (!(char in statistic)){\n",
    "        statistic[char] = 0\n",
    "    }\n",
    "    statistic[char]++\n",
    "}\n",
    "console.log(statistic);"
   ]
  },
  {
   "cell_type": "markdown",
   "metadata": {},
   "source": [
    "Давайте напиишм функцию которая будет создавать объектики кошки:"
   ]
  },
  {
   "cell_type": "code",
   "execution_count": null,
   "metadata": {
    "tags": []
   },
   "outputs": [],
   "source": [
    "function createCat(nickname){\n",
    "    return {\n",
    "        nickname: nickname,\n",
    "        age: Math.round(12 * Math.random),\n",
    "        sayHello: function(){\n",
    "            console.log(`Hello! My name is ${this.nickname}`)\n",
    "        }\n",
    "    }\n",
    "}\n",
    "var barsik = createCat(\"Barsik\")\n",
    "var luparik = createCat(\"Luparik\")\n",
    "barsik.sayHello()\n",
    "luparik.sayHello()\n",
    "console.log(\"Is the same object:\", Object.is(barsik.sayHello, luparik.sayHello))"
   ]
  },
  {
   "cell_type": "markdown",
   "metadata": {},
   "source": [
    "Думаю, что вы видите некоторую странность, у каждого объекта сейчас будет собственная функция `sayHello`, но есть ли более удобный способ делать подобные проекты?"
   ]
  },
  {
   "cell_type": "code",
   "execution_count": null,
   "metadata": {
    "tags": []
   },
   "outputs": [],
   "source": [
    "var additional_prototype = {\n",
    "    sayName: function(){\n",
    "        console.log(this.nickname)\n",
    "    }\n",
    "}\n",
    "\n",
    "var cat_prototype = {\n",
    "    sayMeow: function(){\n",
    "        console.log(`Meow! My name is ${this.nickname}`)\n",
    "    },\n",
    "    __proto__: additional_prototype\n",
    "}\n",
    "\n",
    "function createCat(nickname){\n",
    "    return {\n",
    "        nickname: nickname,\n",
    "        age: Math.round(12 * Math.random),\n",
    "       __proto__: cat_prototype\n",
    "    }\n",
    "}\n",
    "\n",
    "var barsik = createCat(\"Barsik\")\n",
    "var luparik = createCat(\"Luparik\")\n",
    "barsik.sayMeow()\n",
    "luparik.sayMeow()\n",
    "luparik.sayName()\n",
    "\n",
    "console.log(\"Is the same object:\", Object.is(barsik.sayHello, luparik.sayHello))"
   ]
  },
  {
   "cell_type": "markdown",
   "metadata": {},
   "source": [
    "Теперь у нас общая функция на все экземпляры кошек. Мы даже можем поменять функцию в прототипе на новую и поведение метода у всех кошек изменится:"
   ]
  },
  {
   "cell_type": "code",
   "execution_count": null,
   "metadata": {
    "tags": []
   },
   "outputs": [],
   "source": [
    "cat_prototype.sayHello = function(){\n",
    "    console.log(`[NEW] Hello! My name is ${this.nickname}`)\n",
    "}\n",
    "\n",
    "barsik.sayHello()\n",
    "luparik.sayHello()"
   ]
  },
  {
   "cell_type": "markdown",
   "metadata": {},
   "source": [
    "Вуаля!"
   ]
  },
  {
   "cell_type": "markdown",
   "metadata": {},
   "source": [
    "Для того чтобы удобнее создать объект из прототипа, а точнее объект у которого аттрибут `__proto__` будет ссылать на какой-то другой объект можно воспользоваться функцией `Object.create`.\n",
    "\n",
    "Эта функция получает 1 аргумент:\n",
    "- `prototype`\n",
    "     Объект который будет прототипом нового объекта\n",
    "и возвращает новый объект у которого свойство `__proto__` ссылается на значение аргумента `prototype`"
   ]
  },
  {
   "cell_type": "code",
   "execution_count": null,
   "metadata": {
    "tags": []
   },
   "outputs": [],
   "source": [
    "var person_prototype = {\n",
    "  isHuman: false,\n",
    "  printIntroduction: function() {\n",
    "    console.log(`My name is ${this.name}. Am I human? ${this.isHuman}`);\n",
    "  }\n",
    "};\n",
    "\n",
    "var me = Object.create(person_prototype);\n",
    "me.name = 'Matthew'; // \"name\" is a property set on \"me\", but not on \"person\"\n",
    "me.isHuman = true; // inherited properties can be overwritten\n",
    "\n",
    "me.printIntroduction();"
   ]
  },
  {
   "cell_type": "markdown",
   "metadata": {},
   "source": [
    "# Функции конструкторы\n",
    "\n",
    "**Функция конструктор** - функция которая конструирует новые объекты.\n",
    "> Принято называть с большой буквы\n",
    "\n",
    "Функция конструктор вызывается через оператор `new`. если вызвана она верно, то контекст выполнения `this` будет равен новому пустому объекту. Функция должна заполнить этот объект аттрибутами.\n",
    "\n",
    "Оператор `new`:\n",
    "\n",
    "    - создает пустой объект (`new_obj`)\n",
    "    - вызывает функцию-конструктор и прокидывает созданный объект как контекст вызова(`this`)\n",
    "    - связывает `new_obj.__proto__` с аттрибутом `prototype` конструктора"
   ]
  },
  {
   "cell_type": "markdown",
   "metadata": {},
   "source": [
    "## Example #1 (Cat)"
   ]
  },
  {
   "cell_type": "code",
   "execution_count": null,
   "metadata": {
    "tags": []
   },
   "outputs": [],
   "source": [
    "function Cat(nickname, age){\n",
    "    this.nickname = nickname\n",
    "    this.age = age\n",
    "}\n",
    "Cat.prototype.sayHello = function(){\n",
    "    console.log(`Hello! My name is ${this.nickname}`)\n",
    "}\n",
    "\n",
    "var luparik = new Cat(\"Luparik\", 12)\n",
    "var barsik = new Cat(\"Barsik\", 1)\n",
    "console.log(luparik, barsik)"
   ]
  },
  {
   "cell_type": "markdown",
   "metadata": {},
   "source": [
    "## Example #2 (Rectangle)"
   ]
  },
  {
   "cell_type": "code",
   "execution_count": null,
   "metadata": {
    "tags": []
   },
   "outputs": [],
   "source": [
    "function Rectangle(width, height){\n",
    "    this.width = width\n",
    "    this.height = height\n",
    "}\n",
    "\n",
    "Rectangle.prototype.area = function() {\n",
    "    return this.width * this.height\n",
    "}\n",
    "\n",
    "Rectangle.prototype.perimeter = function() {\n",
    "    return (this.width + this.height) * 2\n",
    "}\n",
    "\n",
    "const r1 = new Rectangle(4, 4)\n",
    "const r2 = new Rectangle(10, 10)\n",
    "\n",
    "console.log(r1.area()) // 16\n",
    "console.log(r1.perimeter()) // 16\n",
    "\n",
    "console.log(r2.area()) // 9\n",
    "console.log(r2.perimeter()) // 12"
   ]
  },
  {
   "cell_type": "markdown",
   "metadata": {},
   "source": [
    "## Самостоятельная реализация `new`"
   ]
  },
  {
   "cell_type": "code",
   "execution_count": null,
   "metadata": {},
   "outputs": [],
   "source": [
    "/**\n",
    "/* Функция повторяет действия оператора `new`\n",
    "/* @param {Function} class - функция конструктор / класс\n",
    "/* @return новый объект являющийся экземпляром конструктора\n",
    "*/\n",
    "function _new(cls, args){\n",
    "    const o = Object.create(cls.prototype)\n",
    "    cls.apply(o, args)\n",
    "    return o\n",
    "}\n",
    "\n",
    "const r3 = _new(Rectangle, [5, 5])\n",
    "r3.width === 5 // true\n",
    "r3.heigth === 5 // true\n",
    "r3.__proto__ === Rectangle.prototype // true"
   ]
  },
  {
   "cell_type": "markdown",
   "metadata": {},
   "source": [
    "## Очень очень плохой пример кода!\n",
    "👇 Внизу вы увидете настоящую вакханалию, но она призвана показать, что функции-конструкторы являются самыми объчными функциями, которые можно вызывать и без `new`. Так что вот вам функция `Adder` которая при обычном вызове просто суммирует значение аргументов, а при вызове через `new` конструирует объект в контексте вызова `this`:"
   ]
  },
  {
   "cell_type": "code",
   "execution_count": null,
   "metadata": {
    "tags": []
   },
   "outputs": [],
   "source": [
    "function Adder(a, b){\n",
    "    if (this === global){\n",
    "        return a + b\n",
    "    }\n",
    "    this.a = a\n",
    "    this.b = b\n",
    "}\n",
    "\n",
    "Adder.prototype.add = function () {\n",
    "    return this.a + this.b\n",
    "}\n",
    "\n",
    "console.log(Adder(5, 10))\n",
    "let a = new Adder(5, 20)\n",
    "console.log(a.__proto__ === Adder.prototype)\n"
   ]
  },
  {
   "cell_type": "markdown",
   "metadata": {},
   "source": [
    "# Наследование классов\n",
    "\n",
    "В этом примере мы реализуем цепочку прототипов:"
   ]
  },
  {
   "cell_type": "code",
   "execution_count": 4,
   "metadata": {
    "tags": []
   },
   "outputs": [
    {
     "output_type": "stream",
     "name": "stdout",
     "text": "Method from A\n"
    },
    {
     "output_type": "execute_result",
     "data": {
      "text/plain": "true"
     },
     "metadata": {},
     "execution_count": 4
    }
   ],
   "source": [
    "function A(){\n",
    "    this.is_a = true\n",
    "}\n",
    "\n",
    "A.prototype.a = function(){\n",
    "    console.log(\"Method from A\")\n",
    "}\n",
    "\n",
    "{\n",
    "    const a = new A()\n",
    "    a.a() // \"Method from A\"\n",
    "    a.is_a // true\n",
    "}\n"
   ]
  },
  {
   "cell_type": "code",
   "execution_count": 6,
   "metadata": {
    "tags": []
   },
   "outputs": [
    {
     "output_type": "stream",
     "name": "stdout",
     "text": "Method from B\nMethod from A\n"
    }
   ],
   "source": [
    "function B(){\n",
    "    this.is_b = true\n",
    "}\n",
    "\n",
    "B.prototype.b = function(){\n",
    "    console.log(\"Method from B\")\n",
    "}\n",
    "\n",
    "B.prototype.__proto__ = A.prototype\n",
    "// Object.setPrototypeOf(B.prototype, A.prototype)\n",
    "\n",
    "{\n",
    "    const b = new B()\n",
    "    b.b()\n",
    "    b.a()\n",
    "    cosnole.log(\"b.is_a\", b.is_a)\n",
    "}"
   ]
  },
  {
   "cell_type": "code",
   "execution_count": null,
   "metadata": {},
   "outputs": [],
   "source": [
    "{\n",
    "    function C(){\n",
    "        this.is_c = true\n",
    "    }\n",
    "\n",
    "    C.prototype.c = function(){\n",
    "        console.log(\"Method from C\")\n",
    "    }\n",
    "\n",
    "    Object.setPrototypeOf(C.prototype, B.prototype)\n",
    "}"
   ]
  },
  {
   "cell_type": "code",
   "execution_count": 2,
   "metadata": {
    "tags": []
   },
   "outputs": [
    {
     "output_type": "stream",
     "name": "stdout",
     "text": "Method from A\nMethod from A\nMethod from B\nMethod from C\n"
    }
   ],
   "source": [
    "{\n",
    "    const c = new C()\n",
    "    c.a()\n",
    "    c.b()\n",
    "    c.c()\n",
    "}"
   ]
  },
  {
   "cell_type": "code",
   "execution_count": 2,
   "metadata": {
    "tags": []
   },
   "outputs": [
    {
     "output_type": "stream",
     "name": "stdout",
     "text": "John Dow\nAndy\nWarhol\n"
    }
   ],
   "source": [
    "class Persone{\n",
    "    constructor(first_name, last_name){\n",
    "        this.first_name = first_name\n",
    "        this.last_name = last_name\n",
    "    }\n",
    "\n",
    "    get fullname(){\n",
    "        return `${this.first_name} ${this.last_name}`\n",
    "    }\n",
    "\n",
    "    set fullname(value){\n",
    "        [this.first_name, this.last_name] = value.split(\" \")\n",
    "    }\n",
    "}\n",
    "\n",
    "{\n",
    "    const p = new Persone(\"John\", \"Dow\")\n",
    "    console.log(p.fullname)\n",
    "    p.fullname = \"Andy Warhol\"\n",
    "    console.log(p.first_name)\n",
    "    console.log(p.last_name)\n",
    "}"
   ]
  },
  {
   "cell_type": "markdown",
   "metadata": {},
   "source": [
    "Сейчас в нашем примере есть некоторая проблема, заключающаяся в том, что у объекта класса `C` отсутствуют свойства `is_a` и `is_b` потому что, функции-конструкторы `A` и `B` просто не вызывались.\n",
    "\n",
    "Прежде чем попытаться реализовать правильную работу классов, нам следует разобраться с несколькими методами:\n",
    "- `Function.prototype.bind()`\n",
    "- `Function.prototype.apply()`\n",
    "- `Function.prototype.call()`"
   ]
  },
  {
   "cell_type": "markdown",
   "metadata": {},
   "source": [
    "# Явное прокидывание контекста `this`\n",
    "Перед нами функция `show_this` - которая выводит в консоль значение контекста и значения 2 аргументов: `a` и `b`:"
   ]
  },
  {
   "cell_type": "code",
   "execution_count": 3,
   "metadata": {
    "tags": []
   },
   "outputs": [],
   "source": [
    "function show_this(a, b){\n",
    "    console.log(\"this:\", this)\n",
    "    console.log(\"argument 'a':\", a)\n",
    "    console.log(\"argument 'b':\", b)\n",
    "}"
   ]
  },
  {
   "cell_type": "markdown",
   "metadata": {},
   "source": [
    "При обычном вызове этой функции контест вызова будет ссылаться на глобальный объект (_в нашем случае на объект модуля `global`_)"
   ]
  },
  {
   "cell_type": "code",
   "execution_count": null,
   "metadata": {
    "tags": []
   },
   "outputs": [],
   "source": [
    "show_this(4, 6)"
   ]
  },
  {
   "cell_type": "markdown",
   "metadata": {},
   "source": [
    "Для того чтобы вызвать функцию с явным указанием контеста у функции есть 2 метода:\n",
    "- `Function.prototype.apply`\n",
    "- `Funciton.prototype.call`\n",
    "\n",
    "Давайте посмотрим на следующие примеры:"
   ]
  },
  {
   "cell_type": "code",
   "execution_count": 11,
   "metadata": {
    "tags": []
   },
   "outputs": [
    {
     "name": "stdout",
     "output_type": "stream",
     "text": [
      "this: [String: 'sdfsdf']\n",
      "argument 'a': 1\n",
      "argument 'b': 2\n"
     ]
    }
   ],
   "source": [
    "show_this.apply({a: 1}, [1, 2])"
   ]
  },
  {
   "cell_type": "code",
   "execution_count": null,
   "metadata": {
    "tags": []
   },
   "outputs": [],
   "source": [
    "const my_super_obj = {cool_attr: Number.MAX_VALUE}\n",
    "show_this.call(my_super_obj, 1, 2)"
   ]
  },
  {
   "cell_type": "markdown",
   "metadata": {},
   "source": [
    "У нас остался еще один, близкий к двум предыдущим метод. `Function.prototype.bind` - получает значение контекста и возвращает новую функцию у которой контекст уже будет привязан к переданному объекту."
   ]
  },
  {
   "cell_type": "code",
   "execution_count": 16,
   "metadata": {
    "scrolled": true,
    "tags": []
   },
   "outputs": [
    {
     "name": "stdout",
     "output_type": "stream",
     "text": [
      "this: {}\n",
      "argument 'a': 1\n",
      "argument 'b': 2\n"
     ]
    }
   ],
   "source": [
    "{\n",
    "    let b_show_this = show_this.bind({}, 1, 2)\n",
    "    b_show_this()\n",
    "}"
   ]
  },
  {
   "cell_type": "code",
   "execution_count": 19,
   "metadata": {},
   "outputs": [
    {
     "name": "stdout",
     "output_type": "stream",
     "text": [
      "this: {}\n",
      "argument 'a': 1\n",
      "argument 'b': 2\n"
     ]
    }
   ],
   "source": [
    "show_this.bind({}, 1, 2)()"
   ]
  },
  {
   "cell_type": "code",
   "execution_count": 23,
   "metadata": {
    "tags": []
   },
   "outputs": [
    {
     "name": "stdout",
     "output_type": "stream",
     "text": [
      "this: {}\n",
      "argument 'a': 1\n",
      "argument 'b': 2\n"
     ]
    }
   ],
   "source": [
    "{\n",
    "    const nf = show_this.bind({})\n",
    "    nf(1,2)\n",
    "}"
   ]
  },
  {
   "cell_type": "code",
   "execution_count": 24,
   "metadata": {
    "scrolled": true
   },
   "outputs": [
    {
     "name": "stdout",
     "output_type": "stream",
     "text": [
      "this: [String: 'Super string']\n",
      "argument 'a': 3\n",
      "argument 'b': 4\n"
     ]
    }
   ],
   "source": [
    "show_this.bind(\"Super string\", 3, 4)(5, 6)"
   ]
  },
  {
   "cell_type": "code",
   "execution_count": 9,
   "metadata": {
    "tags": []
   },
   "outputs": [
    {
     "output_type": "stream",
     "name": "stdout",
     "text": "true\nthis: {}\nargument 'a': undefined\nargument 'b': undefined\ntrue\nthis: [String: 'Super string']\nargument 'a': 3\nargument 'b': 4\ntrue\nthis: [String: 'Super string']\nargument 'a': 5\nargument 'b': 6\n"
    }
   ],
   "source": [
    "{\n",
    "    function bind(func, thisArg, ...args){\n",
    "        return function(..._args){\n",
    "            return func.apply(thisArg, [...args, ..._args])\n",
    "        }\n",
    "    }\n",
    "\n",
    "    new Array() instanceof Object\n",
    "\n",
    "    bind(show_this, \"Super string\", 3, 4)()\n",
    "    bind(show_this, \"Super string\")(5, 6)\n",
    "}"
   ]
  },
  {
   "cell_type": "code",
   "execution_count": 5,
   "metadata": {
    "tags": []
   },
   "outputs": [
    {
     "output_type": "stream",
     "name": "stdout",
     "text": "3\n"
    }
   ],
   "source": [
    "const adder = (a) => (b) => a + b\n",
    "\n",
    "console.log(adder(1)(2))"
   ]
  },
  {
   "cell_type": "markdown",
   "metadata": {},
   "source": [
    "## Уже верная реализация наследования классов"
   ]
  },
  {
   "cell_type": "code",
   "execution_count": null,
   "metadata": {
    "tags": []
   },
   "outputs": [],
   "source": [
    "function A(){\n",
    "    this.is_a = true\n",
    "}\n",
    "\n",
    "A.prototype.a = function(){\n",
    "    console.log(\"Method from A\")\n",
    "}\n",
    "\n",
    "// === B ===\n",
    "\n",
    "function B(...args){\n",
    "    A.apply(this, args)\n",
    "    this.is_b = true\n",
    "}\n",
    "\n",
    "B.prototype.b = function(){\n",
    "    console.log(\"Method from B\")\n",
    "}\n",
    "\n",
    "Object.setPrototypeOf(B.prototype, A.prototype)\n",
    "\n",
    "// === C ===\n",
    "\n",
    "function C(){Ï\n",
    "    B.apply(this, args)\n",
    "    this.is_c = true\n",
    "}\n",
    "\n",
    "C.prototype.c = function(){\n",
    "    console.log(\"Method from C\")\n",
    "}\n",
    "\n",
    "Object.setPrototypeOf(C.prototype, B.prototype)\n",
    "\n",
    "c = new C()\n",
    "c.a()\n",
    "c.b()\n",
    "c.c()"
   ]
  },
  {
   "cell_type": "code",
   "execution_count": null,
   "metadata": {},
   "outputs": [],
   "source": [
    "class A {\n",
    "    constructor() {\n",
    "        this.is_a = true\n",
    "    }\n",
    "\n",
    "    a(){\n",
    "        console.log(\"Method a from 'A'\")\n",
    "    }\n",
    "}\n",
    "\n",
    "class B extends A {\n",
    "    constructor() {\n",
    "        super()\n",
    "        this.is_b = true\n",
    "    }\n",
    "    \n",
    "    b(){\n",
    "        console.log(\"Method b from 'B'\")\n",
    "    }\n",
    "}\n",
    "\n",
    "\n",
    "class C extends B {\n",
    "    constructor() {\n",
    "        super()\n",
    "        this.is_c = true\n",
    "    }\n",
    "    \n",
    "    c(){\n",
    "        console.log(\"Method c from 'C'\")\n",
    "    }\n",
    "}"
   ]
  },
  {
   "cell_type": "code",
   "execution_count": 17,
   "metadata": {
    "tags": []
   },
   "outputs": [
    {
     "output_type": "stream",
     "name": "stdout",
     "text": "600\n[\n  Reactangle { is_geometry: true, width: 20, heigth: 30 },\n  Reactangle { is_geometry: true, width: 40, heigth: 50 }\n]\n"
    }
   ],
   "source": [
    "{\n",
    "    class Geometry {\n",
    "        geometries = []\n",
    "        constructor(){\n",
    "            this.is_geometry = true\n",
    "            Geometry.geometries.push(this)\n",
    "        }\n",
    "        area(){\n",
    "            throw new Error(\"Method area is not implemented\")\n",
    "        }\n",
    "        perim(){\n",
    "            throw new Error(`Method [${this.__proto__.constructor.name}].perim is not implemented`)\n",
    "        }\n",
    "    }\n",
    "\n",
    "    class Reactangle extends Geometry {\n",
    "        constructor(width, heigth){\n",
    "            super()\n",
    "            this.width = width\n",
    "            this.heigth = heigth\n",
    "        }\n",
    "        area(){\n",
    "            return this.width * this.heigth\n",
    "        }\n",
    "        perim(){\n",
    "            return (this.width + this.heigth) * 2\n",
    "        }\n",
    "    }\n",
    "\n",
    "    class Circle extends Geometry {\n",
    "        constructor (d) {\n",
    "            super()\n",
    "            this.d = d\n",
    "        }\n",
    "        \n",
    "        // 2πr\n",
    "        // p(r^2)\n",
    "    }\n",
    "}"
   ]
  }
 ],
 "metadata": {
  "kernelspec": {
   "display_name": "Javascript (Node.js)",
   "language": "javascript",
   "name": "javascript"
  },
  "language_info": {
   "file_extension": ".js",
   "mimetype": "application/javascript",
   "name": "javascript",
   "version": "12.18.3"
  }
 },
 "nbformat": 4,
 "nbformat_minor": 2
}