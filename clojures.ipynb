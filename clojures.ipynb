{
 "metadata": {
  "language_info": {
   "codemirror_mode": {
    "name": "ipython",
    "version": 3
   },
   "file_extension": ".py",
   "mimetype": "text/x-python",
   "name": "python",
   "nbconvert_exporter": "python",
   "pygments_lexer": "ipython3",
   "version": "3.8.5-final"
  },
  "orig_nbformat": 2,
  "kernelspec": {
   "name": "javascript",
   "display_name": "Javascript (Node.js)"
  }
 },
 "nbformat": 4,
 "nbformat_minor": 2,
 "cells": [
  {
   "cell_type": "markdown",
   "metadata": {},
   "source": [
    "Давайте посмотрим на замыкания с интересной стороны. Посмотрим на следующий код:"
   ]
  },
  {
   "cell_type": "code",
   "execution_count": 3,
   "metadata": {
    "tags": []
   },
   "outputs": [
    {
     "output_type": "stream",
     "name": "stdout",
     "text": "{\n  count: 1,\n  increase: [Function: increase],\n  decrease: [Function: decrease]\n}\n"
    }
   ],
   "source": [
    "var createCounter = () => ({\n",
    "    count: 0,\n",
    "    increase: function(){\n",
    "        this.count++\n",
    "        return this\n",
    "    },\n",
    "    decrease: function(){\n",
    "        this.count--\n",
    "        return this\n",
    "    }\n",
    "})\n",
    "\n",
    "c = createCounter()\n",
    "c.increase().increase().decrease()\n",
    "\n",
    "console.log(c)"
   ]
  },
  {
   "cell_type": "markdown",
   "metadata": {},
   "source": [
    "Давайте еще представим что по каким-то причинам нам понадобилось хранить кол-во изменений в счетчике:"
   ]
  },
  {
   "cell_type": "code",
   "execution_count": 6,
   "metadata": {
    "tags": []
   },
   "outputs": [
    {
     "output_type": "stream",
     "name": "stdout",
     "text": "{\n  count: 1,\n  changes_count: 3,\n  increase: [Function: increase],\n  decrease: [Function: decrease]\n}\n"
    }
   ],
   "source": [
    "var createCounterWithChanges = () => ({\n",
    "    count: 0,\n",
    "    changes_count: 0,\n",
    "    increase: function(){\n",
    "        this.count++\n",
    "        this.changes_count++\n",
    "        return this\n",
    "    },\n",
    "    decrease: function(){\n",
    "        this.count--\n",
    "        this.changes_count++\n",
    "        return this\n",
    "    }\n",
    "})\n",
    "\n",
    "c = createCounterWithChanges()\n",
    "c.increase().increase().decrease()\n",
    "console.log(c)"
   ]
  },
  {
   "cell_type": "markdown",
   "metadata": {},
   "source": [
    "Сейчас все выглядит вполне адекватно, но вот код который явно приводит к тому, что в счетчике какая-то хрень, а если говорить правильно, то неконсистентные данные:"
   ]
  },
  {
   "cell_type": "code",
   "execution_count": 7,
   "metadata": {
    "tags": []
   },
   "outputs": [
    {
     "output_type": "stream",
     "name": "stdout",
     "text": "{\n  count: 101,\n  changes_count: 4,\n  increase: [Function: increase],\n  decrease: [Function: decrease]\n}\n"
    }
   ],
   "source": [
    "c = createCounterWithChanges()\n",
    "c.increase().increase().decrease()\n",
    "c.count = 100\n",
    "c.increase()\n",
    "console.log(c)"
   ]
  },
  {
   "cell_type": "markdown",
   "metadata": {},
   "source": [
    "Как могло так получиться, что в счетчике лежит 101 при 4 изменениях в ту или другую сторону? А если это поведение приводит к какой-то ошибке? Я предлагаю спрятать значение счетчика в замыкание. Сделаем мы это примерно так:"
   ]
  },
  {
   "cell_type": "code",
   "execution_count": 11,
   "metadata": {},
   "outputs": [],
   "source": [
    "var createClojureCounter = () => {\n",
    "    var count = 0;\n",
    "    return {\n",
    "        increase(){\n",
    "            count++\n",
    "            return this\n",
    "        },\n",
    "        decrease(){\n",
    "            count--\n",
    "            return this\n",
    "        },\n",
    "        value(){\n",
    "            return count\n",
    "        }\n",
    "    }\n",
    "}"
   ]
  },
  {
   "cell_type": "markdown",
   "metadata": {},
   "source": [
    "Теперь после создания счетчика мы можем менять его значение только через интерфейс предоставленный нам, а само значение будет скрыто от нас в замыкании."
   ]
  },
  {
   "cell_type": "code",
   "execution_count": 13,
   "metadata": {
    "tags": []
   },
   "outputs": [
    {
     "output_type": "stream",
     "name": "stdout",
     "text": "3\n"
    }
   ],
   "source": [
    "var c  = createClojureCounter()\n",
    "c.increase().increase().increase()\n",
    "console.log(c.value())"
   ]
  }
 ]
}