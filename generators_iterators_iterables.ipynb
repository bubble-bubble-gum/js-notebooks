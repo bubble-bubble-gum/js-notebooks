{
 "metadata": {
  "language_info": {
   "codemirror_mode": {
    "name": "ipython",
    "version": 3
   },
   "file_extension": ".py",
   "mimetype": "text/x-python",
   "name": "python",
   "nbconvert_exporter": "python",
   "pygments_lexer": "ipython3",
   "version": "3.8.5-final"
  },
  "orig_nbformat": 2,
  "kernelspec": {
   "name": "javascript",
   "display_name": "Javascript (Node.js)"
  }
 },
 "nbformat": 4,
 "nbformat_minor": 2,
 "cells": [
  {
   "cell_type": "markdown",
   "metadata": {},
   "source": [
    "# Iterator"
   ]
  },
  {
   "cell_type": "code",
   "execution_count": 2,
   "metadata": {},
   "outputs": [],
   "source": [
    "const countdown_iterator = {\n",
    "    value: 5,\n",
    "    next() {\n",
    "        return {\n",
    "            value: this.value--,\n",
    "            done: this.value === 0\n",
    "        }\n",
    "    }\n",
    "}"
   ]
  },
  {
   "cell_type": "code",
   "execution_count": 3,
   "metadata": {
    "tags": []
   },
   "outputs": [
    {
     "output_type": "stream",
     "name": "stdout",
     "text": "countdown_iterator { value: 0, next: [Function: next] }\n=== returned values ===\n{ value: 5, done: false } { value: 4, done: false } { value: 3, done: false } { value: 2, done: false } { value: 1, done: true }\n"
    }
   ],
   "source": [
    "const v1 = countdown_iterator.next();\n",
    "const v2 = countdown_iterator.next();\n",
    "const v3 = countdown_iterator.next();\n",
    "const v4 = countdown_iterator.next();\n",
    "const v5 = countdown_iterator.next();\n",
    "\n",
    "console.log(\"countdown_iterator\", countdown_iterator);\n",
    "console.log(\"=== returned values ===\");\n",
    "console.log(v1, v2, v3, v4, v5)"
   ]
  },
  {
   "cell_type": "markdown",
   "metadata": {},
   "source": [
    "# Iterable"
   ]
  },
  {
   "cell_type": "markdown",
   "metadata": {},
   "source": [
    "Как было уже сказано в материалах, `Array` реализовывает интерфейс `Iterable`. Давайте создадим массив и вытащим из него итератор:"
   ]
  },
  {
   "cell_type": "code",
   "execution_count": 3,
   "metadata": {
    "tags": []
   },
   "outputs": [
    {
     "output_type": "stream",
     "name": "stdout",
     "text": "{ value: 1, done: false }\n{ value: 2, done: false }\n{ value: 3, done: false }\n{ value: undefined, done: true }\n"
    }
   ],
   "source": [
    "const arr = [1, 2, 3]\n",
    "const arr_iter = arr[Symbol.iterator]()\n",
    "console.log(arr_iter.next())\n",
    "console.log(arr_iter.next())\n",
    "console.log(arr_iter.next())\n",
    "console.log(arr_iter.next())"
   ]
  },
  {
   "cell_type": "markdown",
   "metadata": {},
   "source": [
    "## Example 1\n",
    "Теперь попробуем реализовать итерируемый объект самостоятельно:"
   ]
  },
  {
   "cell_type": "code",
   "execution_count": 2,
   "metadata": {},
   "outputs": [],
   "source": [
    "class NumberList {\n",
    "    constructor(max) {\n",
    "        this.max = max;\n",
    "    }\n",
    "    [Symbol.iterator]() {\n",
    "        let n = 0;\n",
    "        return {\n",
    "            next: () => {\n",
    "                return {\n",
    "                    value: n,\n",
    "                    done: n++ >= this.max,\n",
    "                };\n",
    "            },\n",
    "        };\n",
    "    }\n",
    "}"
   ]
  },
  {
   "cell_type": "code",
   "execution_count": 3,
   "metadata": {
    "tags": []
   },
   "outputs": [
    {
     "output_type": "stream",
     "name": "stdout",
     "text": "0\n1\n2\n3\n4\n5\n6\n7\n8\n9\n"
    }
   ],
   "source": [
    "const nl = new NumberList(10)\n",
    "for (const n of nl){\n",
    "    console.log(n)\n",
    "}"
   ]
  },
  {
   "cell_type": "markdown",
   "metadata": {},
   "source": [
    "## Example 2\n",
    "А вот уже посложнее:"
   ]
  },
  {
   "cell_type": "code",
   "execution_count": 2,
   "metadata": {
    "tags": []
   },
   "outputs": [
    {
     "output_type": "stream",
     "name": "stdout",
     "text": "[\n       1,    1,     2,\n       6,   24,   120,\n     720, 5040, 40320,\n  362880\n]\n"
    }
   ],
   "source": [
    "class NFactorials {\n",
    "    constructor(n){\n",
    "        this.n = n\n",
    "    }\n",
    "    [Symbol.iterator]() {\n",
    "        let n = 0;\n",
    "        let f = 1;\n",
    "        return {\n",
    "            next: () => {\n",
    "                return {\n",
    "                    value: f = f * (n++ || 1),\n",
    "                    done: n > this.n\n",
    "                }\n",
    "            }\n",
    "        }\n",
    "    }\n",
    "}"
   ]
  },
  {
   "cell_type": "code",
   "execution_count": null,
   "metadata": {},
   "outputs": [],
   "source": [
    "const nf = new NFactorials(10)\n",
    "console.log(Array.from(nf))"
   ]
  },
  {
   "cell_type": "markdown",
   "metadata": {},
   "source": [
    "# Generator"
   ]
  },
  {
   "cell_type": "markdown",
   "metadata": {},
   "source": [
    "## Example 1\n",
    "Создадим генератор `range` который будет генерировать последовательность чисел в промежутке от `start` до `end` с шагом `step`:"
   ]
  },
  {
   "cell_type": "code",
   "execution_count": 5,
   "metadata": {},
   "outputs": [],
   "source": [
    "function *range(start, end, step=1){\n",
    "    while (start < end){\n",
    "        yield start\n",
    "        start += step\n",
    "    }\n",
    "}"
   ]
  },
  {
   "cell_type": "markdown",
   "metadata": {},
   "source": [
    "Какой тип возвращает эта функция и какому типу она сама принадлежит?"
   ]
  },
  {
   "cell_type": "code",
   "execution_count": 9,
   "metadata": {
    "tags": []
   },
   "outputs": [
    {
     "output_type": "stream",
     "name": "stdout",
     "text": "typeof range: function\ntypeof range() object\nrange() Object [Generator] {}\n"
    }
   ],
   "source": [
    "console.log(\"typeof range:\", typeof range);\n",
    "console.log(\"typeof range()\", typeof range());\n",
    "console.log(\"range()\", range());"
   ]
  },
  {
   "cell_type": "markdown",
   "metadata": {},
   "source": [
    "Попробуем что получилось:"
   ]
  },
  {
   "cell_type": "code",
   "execution_count": 6,
   "metadata": {},
   "outputs": [
    {
     "output_type": "execute_result",
     "data": {
      "text/plain": "[\n   0,  2,  4,  6,  8, 10, 12, 14, 16, 18, 20,\n  22, 24, 26, 28, 30, 32, 34, 36, 38, 40, 42,\n  44, 46, 48, 50, 52, 54, 56, 58, 60, 62, 64,\n  66, 68, 70, 72, 74, 76, 78, 80, 82, 84, 86,\n  88, 90, 92, 94, 96, 98\n]"
     },
     "metadata": {},
     "execution_count": 6
    }
   ],
   "source": [
    "Array.from(range(0, 100, 2))"
   ]
  }
 ]
}